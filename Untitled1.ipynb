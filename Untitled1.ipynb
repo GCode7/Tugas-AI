{
 "cells": [
  {
   "cell_type": "code",
   "execution_count": 1,
   "metadata": {},
   "outputs": [],
   "source": [
    "import numpy as np\n",
    "import pandas as pd\n",
    "import matplotlib.pyplot as plt"
   ]
  },
  {
   "cell_type": "code",
   "execution_count": 2,
   "metadata": {},
   "outputs": [],
   "source": [
    "mainData = pd.DataFrame()\n",
    "mainData['Outlook'] = [\n",
    "    'sunny', 'sunny', 'overcast', 'rain', 'rain', 'rain',\n",
    "    'overcast', 'sunny', 'sunny', 'rain', 'sunny',\n",
    "    'overcast', 'overcast', 'rain'\n",
    "]\n",
    "\n",
    "mainData['Temperature'] = [\n",
    "    'hot', 'hot', 'hot', 'mild', 'cool', 'cool', 'cool',\n",
    "    'mild', 'cool', 'mild', 'mild', 'mild', 'hot', 'mild',\n",
    "]\n",
    "mainData['Humidity'] = [\n",
    "    'high', 'high', 'high', 'high', 'normal', 'normal', 'normal', \n",
    "    'high', 'normal', 'normal', 'normal', 'high', 'normal', 'high'\n",
    "]\n",
    "mainData['Windy'] = [\n",
    "    'Weak', 'Strong', 'Weak', 'Weak', 'Weak', 'Strong', 'Strong', 'Weak', 'Weak', 'Weak',\n",
    "    'Strong', 'Strong', 'Weak', 'Strong'\n",
    "]\n",
    "mainData['Decision'] = [\n",
    "    'N', 'N', 'P', 'P', 'P', 'N', 'P', 'N', 'P', 'P',\n",
    "    'P', 'P', 'P', 'N'\n",
    "]"
   ]
  },
  {
   "cell_type": "code",
   "execution_count": 3,
   "metadata": {},
   "outputs": [
    {
     "data": {
      "text/html": [
       "<div>\n",
       "<style scoped>\n",
       "    .dataframe tbody tr th:only-of-type {\n",
       "        vertical-align: middle;\n",
       "    }\n",
       "\n",
       "    .dataframe tbody tr th {\n",
       "        vertical-align: top;\n",
       "    }\n",
       "\n",
       "    .dataframe thead th {\n",
       "        text-align: right;\n",
       "    }\n",
       "</style>\n",
       "<table border=\"1\" class=\"dataframe\">\n",
       "  <thead>\n",
       "    <tr style=\"text-align: right;\">\n",
       "      <th></th>\n",
       "      <th>Outlook</th>\n",
       "      <th>Temperature</th>\n",
       "      <th>Humidity</th>\n",
       "      <th>Windy</th>\n",
       "      <th>Decision</th>\n",
       "    </tr>\n",
       "  </thead>\n",
       "  <tbody>\n",
       "    <tr>\n",
       "      <th>0</th>\n",
       "      <td>sunny</td>\n",
       "      <td>hot</td>\n",
       "      <td>high</td>\n",
       "      <td>Weak</td>\n",
       "      <td>N</td>\n",
       "    </tr>\n",
       "    <tr>\n",
       "      <th>1</th>\n",
       "      <td>sunny</td>\n",
       "      <td>hot</td>\n",
       "      <td>high</td>\n",
       "      <td>Strong</td>\n",
       "      <td>N</td>\n",
       "    </tr>\n",
       "    <tr>\n",
       "      <th>2</th>\n",
       "      <td>overcast</td>\n",
       "      <td>hot</td>\n",
       "      <td>high</td>\n",
       "      <td>Weak</td>\n",
       "      <td>P</td>\n",
       "    </tr>\n",
       "    <tr>\n",
       "      <th>3</th>\n",
       "      <td>rain</td>\n",
       "      <td>mild</td>\n",
       "      <td>high</td>\n",
       "      <td>Weak</td>\n",
       "      <td>P</td>\n",
       "    </tr>\n",
       "    <tr>\n",
       "      <th>4</th>\n",
       "      <td>rain</td>\n",
       "      <td>cool</td>\n",
       "      <td>normal</td>\n",
       "      <td>Weak</td>\n",
       "      <td>P</td>\n",
       "    </tr>\n",
       "    <tr>\n",
       "      <th>5</th>\n",
       "      <td>rain</td>\n",
       "      <td>cool</td>\n",
       "      <td>normal</td>\n",
       "      <td>Strong</td>\n",
       "      <td>N</td>\n",
       "    </tr>\n",
       "    <tr>\n",
       "      <th>6</th>\n",
       "      <td>overcast</td>\n",
       "      <td>cool</td>\n",
       "      <td>normal</td>\n",
       "      <td>Strong</td>\n",
       "      <td>P</td>\n",
       "    </tr>\n",
       "    <tr>\n",
       "      <th>7</th>\n",
       "      <td>sunny</td>\n",
       "      <td>mild</td>\n",
       "      <td>high</td>\n",
       "      <td>Weak</td>\n",
       "      <td>N</td>\n",
       "    </tr>\n",
       "    <tr>\n",
       "      <th>8</th>\n",
       "      <td>sunny</td>\n",
       "      <td>cool</td>\n",
       "      <td>normal</td>\n",
       "      <td>Weak</td>\n",
       "      <td>P</td>\n",
       "    </tr>\n",
       "    <tr>\n",
       "      <th>9</th>\n",
       "      <td>rain</td>\n",
       "      <td>mild</td>\n",
       "      <td>normal</td>\n",
       "      <td>Weak</td>\n",
       "      <td>P</td>\n",
       "    </tr>\n",
       "    <tr>\n",
       "      <th>10</th>\n",
       "      <td>sunny</td>\n",
       "      <td>mild</td>\n",
       "      <td>normal</td>\n",
       "      <td>Strong</td>\n",
       "      <td>P</td>\n",
       "    </tr>\n",
       "    <tr>\n",
       "      <th>11</th>\n",
       "      <td>overcast</td>\n",
       "      <td>mild</td>\n",
       "      <td>high</td>\n",
       "      <td>Strong</td>\n",
       "      <td>P</td>\n",
       "    </tr>\n",
       "    <tr>\n",
       "      <th>12</th>\n",
       "      <td>overcast</td>\n",
       "      <td>hot</td>\n",
       "      <td>normal</td>\n",
       "      <td>Weak</td>\n",
       "      <td>P</td>\n",
       "    </tr>\n",
       "    <tr>\n",
       "      <th>13</th>\n",
       "      <td>rain</td>\n",
       "      <td>mild</td>\n",
       "      <td>high</td>\n",
       "      <td>Strong</td>\n",
       "      <td>N</td>\n",
       "    </tr>\n",
       "  </tbody>\n",
       "</table>\n",
       "</div>"
      ],
      "text/plain": [
       "     Outlook Temperature Humidity   Windy Decision\n",
       "0      sunny         hot     high    Weak        N\n",
       "1      sunny         hot     high  Strong        N\n",
       "2   overcast         hot     high    Weak        P\n",
       "3       rain        mild     high    Weak        P\n",
       "4       rain        cool   normal    Weak        P\n",
       "5       rain        cool   normal  Strong        N\n",
       "6   overcast        cool   normal  Strong        P\n",
       "7      sunny        mild     high    Weak        N\n",
       "8      sunny        cool   normal    Weak        P\n",
       "9       rain        mild   normal    Weak        P\n",
       "10     sunny        mild   normal  Strong        P\n",
       "11  overcast        mild     high  Strong        P\n",
       "12  overcast         hot   normal    Weak        P\n",
       "13      rain        mild     high  Strong        N"
      ]
     },
     "execution_count": 3,
     "metadata": {},
     "output_type": "execute_result"
    }
   ],
   "source": [
    "mainData"
   ]
  },
  {
   "cell_type": "code",
   "execution_count": 4,
   "metadata": {},
   "outputs": [
    {
     "name": "stdout",
     "output_type": "stream",
     "text": [
      "H(S) = 0.9403\n"
     ]
    }
   ],
   "source": [
    "Data_p = len(mainData.loc[mainData.Decision == 'P']) / len(mainData)\n",
    "Data_n = len(mainData.loc[mainData.Decision == 'N']) / len(mainData)\n",
    "\n",
    "entropyDecision = -Data_n * np.log2(Data_n) - Data_p * np.log2(Data_p)\n",
    "print(f'H(S) = {entropyDecision:0.4f}')"
   ]
  },
  {
   "cell_type": "code",
   "execution_count": 5,
   "metadata": {},
   "outputs": [],
   "source": [
    "def f_entropy_decision(data):\n",
    "    Data_p = len(data.loc[data.Decision == 'P']) / len(data)\n",
    "    Data_n = len(data.loc[data.Decision == 'N']) / len(data)\n",
    "    return -Data_n * np.log2(Data_n) - Data_p * np.log2(Data_p)"
   ]
  },
  {
   "cell_type": "code",
   "execution_count": 9,
   "metadata": {},
   "outputs": [
    {
     "name": "stdout",
     "output_type": "stream",
     "text": [
      "p(Decision=P|Outlook=overcast) = 4/4\n",
      "p(Decision=N|Outlook=overcast) = 0/4\n",
      "p(Outlook=overcast) = 4/14\n",
      "Entropy(Decision|Outlook=overcast) = -4/4.log2(4/4) - 0/4.log2(0/4)\n",
      "\n",
      "p(Decision=P|Outlook=rain) = 3/5\n",
      "p(Decision=N|Outlook=rain) = 2/5\n",
      "p(Outlook=rain) = 5/14\n",
      "Entropy(Decision|Outlook=rain) = -3/5.log2(3/5) - 2/5.log2(2/5)\n",
      "\n",
      "p(Decision=P|Outlook=sunny) = 2/5\n",
      "p(Decision=N|Outlook=sunny) = 3/5\n",
      "p(Outlook=sunny) = 5/14\n",
      "Entropy(Decision|Outlook=sunny) = -2/5.log2(2/5) - 3/5.log2(3/5)\n",
      "\n",
      "Gain(Decision, Outlook) = Entropy(Decision) - p(Outlook=overcast).Entropy(Decision|Outlook=overcast) - p(Outlook=rain).Entropy(Decision|Outlook=rain) - p(Outlook=sunny).Entropy(Decision|Outlook=sunny)\n",
      "Gain(Decision, Outlook) = 1.2871\n"
     ]
    }
   ],
   "source": [
    "IG_Decision_Outlook = f_entropy_decision(mainData)\n",
    "overall_eqn = 'Gain(Decision, Outlook) = Entropy(Decision)'\n",
    "\n",
    "for name, Outlook in mainData.groupby('Outlook'):\n",
    "    num_p = len(Outlook.loc[Outlook.Decision == 'P'])\n",
    "    num_n = len(Outlook.loc[Outlook.Decision != 'P'])\n",
    "    num_Outlook = len(Outlook)\n",
    "    print(f'p(Decision=P|Outlook={name}) = {num_p}/{num_Outlook}')\n",
    "    print(f'p(Decision=N|Outlook={name}) = {num_n}/{num_Outlook}')    \n",
    "    print(f'p(Outlook={name}) = {num_Outlook}/{len(mainData)}')\n",
    "    print(f'Entropy(Decision|Outlook={name}) = 'f'-{num_p}/{num_Outlook}.log2({num_p}/{num_Outlook}) - 'f'{num_n}/{num_Outlook}.log2({num_n}/{num_Outlook})')\n",
    "    \n",
    "    entropy_Decision_Outlook = 0\n",
    "    \n",
    "    if num_p != 0 :\n",
    "        entropy_Decision_Outlook = (num_p / num_Outlook) * np.log2(num_p / num_Outlook)\n",
    "    \n",
    "    if num_n != 0 :\n",
    "        entropy_Decision_Outlook = (num_n / num_Outlook) * np.log2(num_n / num_Outlook)\n",
    "    \n",
    "    IG_Decision_Outlook -= (num_Outlook / len(mainData)) * entropy_Decision_Outlook\n",
    "    print()\n",
    "    overall_eqn += f' - p(Outlook={name}).'\n",
    "    overall_eqn += f'Entropy(Decision|Outlook={name})'\n",
    "\n",
    "print(overall_eqn)\n",
    "print(f'Gain(Decision, Outlook) = {IG_Decision_Outlook:0.4f}')"
   ]
  },
  {
   "cell_type": "code",
   "execution_count": 11,
   "metadata": {},
   "outputs": [],
   "source": [
    "def IG(data, column, entDecision=f_entropy_decision(mainData)):\n",
    "    IGDecision = entDecision\n",
    "    for name, temp in data.groupby(column):\n",
    "        Data_p = len(temp.loc[temp.Decision == 'P']) / len(temp)\n",
    "        Data_nP = len(temp.loc[temp.Decision != 'P']) / len(temp)\n",
    "\n",
    "        entropyDecision = 0\n",
    "\n",
    "        if Data_p != 0:\n",
    "            entropyDecision -= (Data_p) * np.log2(Data_p)\n",
    "\n",
    "        if Data_nP != 0:\n",
    "            entropyDecision -= (Data_nP) * np.log2(Data_nP)\n",
    "\n",
    "        IGDecision -= (len(temp) / len(mainData)) * entropyDecision\n",
    "    return IGDecision"
   ]
  },
  {
   "cell_type": "code",
   "execution_count": 12,
   "metadata": {},
   "outputs": [
    {
     "name": "stdout",
     "output_type": "stream",
     "text": [
      "Gain(Decision, Outlook) = 0.2467\n",
      "Gain(Decision, Temperature) = 0.0292\n",
      "Gain(Decision, Humidity) = 0.1518\n",
      "Gain(Decision, Windy) = 0.0481\n"
     ]
    }
   ],
   "source": [
    "for col in mainData.columns[:-1]:\n",
    "    print(f'Gain(Decision, {col}) = {IG(mainData, col):0.4f}')"
   ]
  },
  {
   "cell_type": "code",
   "execution_count": 13,
   "metadata": {},
   "outputs": [
    {
     "name": "stdout",
     "output_type": "stream",
     "text": [
      "---------------\n",
      "overcast\n",
      "---------------\n",
      "     Outlook Temperature Humidity   Windy Decision\n",
      "2   overcast         hot     high    Weak        P\n",
      "6   overcast        cool   normal  Strong        P\n",
      "11  overcast        mild     high  Strong        P\n",
      "12  overcast         hot   normal    Weak        P\n",
      "---------------\n",
      "---------------\n",
      "rain\n",
      "---------------\n",
      "   Outlook Temperature Humidity   Windy Decision\n",
      "3     rain        mild     high    Weak        P\n",
      "4     rain        cool   normal    Weak        P\n",
      "5     rain        cool   normal  Strong        N\n",
      "9     rain        mild   normal    Weak        P\n",
      "13    rain        mild     high  Strong        N\n",
      "---------------\n",
      "---------------\n",
      "sunny\n",
      "---------------\n",
      "   Outlook Temperature Humidity   Windy Decision\n",
      "0    sunny         hot     high    Weak        N\n",
      "1    sunny         hot     high  Strong        N\n",
      "7    sunny        mild     high    Weak        N\n",
      "8    sunny        cool   normal    Weak        P\n",
      "10   sunny        mild   normal  Strong        P\n",
      "---------------\n"
     ]
    }
   ],
   "source": [
    "for name, temp in mainData.groupby('Outlook'):\n",
    "    print('-' * 15)\n",
    "    print(name)\n",
    "    print('-' * 15)\n",
    "    print(temp)\n",
    "    print('-' * 15)"
   ]
  },
  {
   "cell_type": "code",
   "execution_count": 14,
   "metadata": {},
   "outputs": [
    {
     "data": {
      "text/html": [
       "<div>\n",
       "<style scoped>\n",
       "    .dataframe tbody tr th:only-of-type {\n",
       "        vertical-align: middle;\n",
       "    }\n",
       "\n",
       "    .dataframe tbody tr th {\n",
       "        vertical-align: top;\n",
       "    }\n",
       "\n",
       "    .dataframe thead th {\n",
       "        text-align: right;\n",
       "    }\n",
       "</style>\n",
       "<table border=\"1\" class=\"dataframe\">\n",
       "  <thead>\n",
       "    <tr style=\"text-align: right;\">\n",
       "      <th></th>\n",
       "      <th>Outlook</th>\n",
       "      <th>Temperature</th>\n",
       "      <th>Humidity</th>\n",
       "      <th>Windy</th>\n",
       "      <th>Decision</th>\n",
       "    </tr>\n",
       "  </thead>\n",
       "  <tbody>\n",
       "    <tr>\n",
       "      <th>0</th>\n",
       "      <td>sunny</td>\n",
       "      <td>hot</td>\n",
       "      <td>high</td>\n",
       "      <td>Weak</td>\n",
       "      <td>N</td>\n",
       "    </tr>\n",
       "    <tr>\n",
       "      <th>1</th>\n",
       "      <td>sunny</td>\n",
       "      <td>hot</td>\n",
       "      <td>high</td>\n",
       "      <td>Strong</td>\n",
       "      <td>N</td>\n",
       "    </tr>\n",
       "    <tr>\n",
       "      <th>3</th>\n",
       "      <td>rain</td>\n",
       "      <td>mild</td>\n",
       "      <td>high</td>\n",
       "      <td>Weak</td>\n",
       "      <td>P</td>\n",
       "    </tr>\n",
       "    <tr>\n",
       "      <th>4</th>\n",
       "      <td>rain</td>\n",
       "      <td>cool</td>\n",
       "      <td>normal</td>\n",
       "      <td>Weak</td>\n",
       "      <td>P</td>\n",
       "    </tr>\n",
       "    <tr>\n",
       "      <th>5</th>\n",
       "      <td>rain</td>\n",
       "      <td>cool</td>\n",
       "      <td>normal</td>\n",
       "      <td>Strong</td>\n",
       "      <td>N</td>\n",
       "    </tr>\n",
       "    <tr>\n",
       "      <th>7</th>\n",
       "      <td>sunny</td>\n",
       "      <td>mild</td>\n",
       "      <td>high</td>\n",
       "      <td>Weak</td>\n",
       "      <td>N</td>\n",
       "    </tr>\n",
       "    <tr>\n",
       "      <th>8</th>\n",
       "      <td>sunny</td>\n",
       "      <td>cool</td>\n",
       "      <td>normal</td>\n",
       "      <td>Weak</td>\n",
       "      <td>P</td>\n",
       "    </tr>\n",
       "    <tr>\n",
       "      <th>9</th>\n",
       "      <td>rain</td>\n",
       "      <td>mild</td>\n",
       "      <td>normal</td>\n",
       "      <td>Weak</td>\n",
       "      <td>P</td>\n",
       "    </tr>\n",
       "    <tr>\n",
       "      <th>10</th>\n",
       "      <td>sunny</td>\n",
       "      <td>mild</td>\n",
       "      <td>normal</td>\n",
       "      <td>Strong</td>\n",
       "      <td>P</td>\n",
       "    </tr>\n",
       "    <tr>\n",
       "      <th>13</th>\n",
       "      <td>rain</td>\n",
       "      <td>mild</td>\n",
       "      <td>high</td>\n",
       "      <td>Strong</td>\n",
       "      <td>N</td>\n",
       "    </tr>\n",
       "  </tbody>\n",
       "</table>\n",
       "</div>"
      ],
      "text/plain": [
       "   Outlook Temperature Humidity   Windy Decision\n",
       "0    sunny         hot     high    Weak        N\n",
       "1    sunny         hot     high  Strong        N\n",
       "3     rain        mild     high    Weak        P\n",
       "4     rain        cool   normal    Weak        P\n",
       "5     rain        cool   normal  Strong        N\n",
       "7    sunny        mild     high    Weak        N\n",
       "8    sunny        cool   normal    Weak        P\n",
       "9     rain        mild   normal    Weak        P\n",
       "10   sunny        mild   normal  Strong        P\n",
       "13    rain        mild     high  Strong        N"
      ]
     },
     "execution_count": 14,
     "metadata": {},
     "output_type": "execute_result"
    }
   ],
   "source": [
    "Data_next = mainData.loc[mainData.Outlook != 'overcast']\n",
    "Data_next"
   ]
  },
  {
   "cell_type": "code",
   "execution_count": 15,
   "metadata": {},
   "outputs": [],
   "source": [
    "Data_sunny = Data_next.loc[Data_next.Outlook == 'sunny']"
   ]
  },
  {
   "cell_type": "code",
   "execution_count": 16,
   "metadata": {},
   "outputs": [
    {
     "data": {
      "text/plain": [
       "0.9709505944546686"
      ]
     },
     "execution_count": 16,
     "metadata": {},
     "output_type": "execute_result"
    }
   ],
   "source": [
    "entropyDecision = f_entropy_decision(Data_sunny)\n",
    "entropyDecision"
   ]
  },
  {
   "cell_type": "code",
   "execution_count": 17,
   "metadata": {},
   "outputs": [
    {
     "name": "stdout",
     "output_type": "stream",
     "text": [
      "Gain(Decision, Temperature) = 0.8281\n",
      "Gain(Decision, Humidity) = 0.9710\n",
      "Gain(Decision, Windy) = 0.6313\n"
     ]
    }
   ],
   "source": [
    "for col in Data_sunny.columns[1:-1]:\n",
    "    print(f'Gain(Decision, {col}) = {IG(Data_sunny, col, entropyDecision):0.4f}')"
   ]
  },
  {
   "cell_type": "code",
   "execution_count": 19,
   "metadata": {},
   "outputs": [
    {
     "name": "stdout",
     "output_type": "stream",
     "text": [
      "---------------\n",
      "high\n",
      "---------------\n",
      "  Outlook Temperature Humidity   Windy Decision\n",
      "0   sunny         hot     high    Weak        N\n",
      "1   sunny         hot     high  Strong        N\n",
      "7   sunny        mild     high    Weak        N\n",
      "---------------\n",
      "---------------\n",
      "normal\n",
      "---------------\n",
      "   Outlook Temperature Humidity   Windy Decision\n",
      "8    sunny        cool   normal    Weak        P\n",
      "10   sunny        mild   normal  Strong        P\n",
      "---------------\n"
     ]
    }
   ],
   "source": [
    "for name, temp in Data_sunny.groupby('Humidity'):\n",
    "    print('-' * 15)\n",
    "    print(name)\n",
    "    print('-' * 15)\n",
    "    print(temp)\n",
    "    print('-' * 15)"
   ]
  },
  {
   "cell_type": "code",
   "execution_count": 20,
   "metadata": {},
   "outputs": [
    {
     "data": {
      "text/plain": [
       "0.9709505944546686"
      ]
     },
     "execution_count": 20,
     "metadata": {},
     "output_type": "execute_result"
    }
   ],
   "source": [
    "Data_rain = Data_next.loc[Data_next.Outlook == 'rain']\n",
    "entropyDecision = f_entropy_decision(Data_rain)\n",
    "entropyDecision"
   ]
  },
  {
   "cell_type": "code",
   "execution_count": 21,
   "metadata": {},
   "outputs": [
    {
     "name": "stdout",
     "output_type": "stream",
     "text": [
      "Gain(Decision, Temperature) = 0.6313\n",
      "Gain(Decision, Humidity) = 0.6313\n",
      "Gain(Decision, Windy) = 0.9710\n"
     ]
    }
   ],
   "source": [
    "for col in Data_rain.columns[1:-1]:\n",
    "    print(f'Gain(Decision, {col}) = {IG(Data_rain, col, entropyDecision):0.4f}')"
   ]
  },
  {
   "cell_type": "code",
   "execution_count": 22,
   "metadata": {},
   "outputs": [
    {
     "name": "stdout",
     "output_type": "stream",
     "text": [
      "---------------\n",
      "Strong\n",
      "---------------\n",
      "   Outlook Temperature Humidity   Windy Decision\n",
      "5     rain        cool   normal  Strong        N\n",
      "13    rain        mild     high  Strong        N\n",
      "---------------\n",
      "---------------\n",
      "Weak\n",
      "---------------\n",
      "  Outlook Temperature Humidity Windy Decision\n",
      "3    rain        mild     high  Weak        P\n",
      "4    rain        cool   normal  Weak        P\n",
      "9    rain        mild   normal  Weak        P\n",
      "---------------\n"
     ]
    }
   ],
   "source": [
    "for name, temp in Data_rain.groupby('Windy'):\n",
    "    print('-' * 15)\n",
    "    print(name)\n",
    "    print('-' * 15)\n",
    "    print(temp)\n",
    "    print('-' * 15)"
   ]
  },
  {
   "cell_type": "code",
   "execution_count": null,
   "metadata": {},
   "outputs": [],
   "source": []
  }
 ],
 "metadata": {
  "kernelspec": {
   "display_name": "Python 3",
   "language": "python",
   "name": "python3"
  },
  "language_info": {
   "codemirror_mode": {
    "name": "ipython",
    "version": 3
   },
   "file_extension": ".py",
   "mimetype": "text/x-python",
   "name": "python",
   "nbconvert_exporter": "python",
   "pygments_lexer": "ipython3",
   "version": "3.7.6"
  }
 },
 "nbformat": 4,
 "nbformat_minor": 4
}
